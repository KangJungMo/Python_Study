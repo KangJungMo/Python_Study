{
 "cells": [
  {
   "cell_type": "markdown",
   "id": "88714fd8",
   "metadata": {},
   "source": [
    "# N번째 큰 수 (백준 #2693)\n",
    "- 브론즈1\n",
    "- https://www.acmicpc.net/problem/2693\n",
    "\n",
    "**[문제]**\n",
    "\n",
    "배열 A가 주어졌을 때, N번째 큰 값을 출력하는 프로그램을 작성하시오.\n",
    "\n",
    "배열 A의 크기는 항상 10이고, 자연수만 가지고 있다. N은 항상 3이다.\n",
    "\n",
    "**[입력]**\n",
    "\n",
    "첫째 줄에 테스트 케이스의 개수 T(1 ≤ T ≤ 1,000)가 주어진다. 각 테스트 케이스는 한 줄로 이루어져 있고, 배열 A의 원소 10개가 공백으로 구분되어 주어진다. 이 원소는 1보다 크거나 같고, 1,000보다 작거나 같은 자연수이다.\n",
    "\n",
    "**[출력]**\n",
    "\n",
    "각 테스트 케이스에 대해 한 줄에 하나씩 배열 A에서 3번째 큰 값을 출력한다."
   ]
  },
  {
   "cell_type": "code",
   "execution_count": null,
   "id": "cf9d0032",
   "metadata": {},
   "outputs": [],
   "source": [
    "a = 1\n",
    "for i in range(a):\n",
    "    l = list(map(int, input().split()))\n",
    "    l.sort(reverse = True)\n",
    "    print(l[2])"
   ]
  }
 ],
 "metadata": {
  "kernelspec": {
   "display_name": "Python 3 (ipykernel)",
   "language": "python",
   "name": "python3"
  },
  "language_info": {
   "codemirror_mode": {
    "name": "ipython",
    "version": 3
   },
   "file_extension": ".py",
   "mimetype": "text/x-python",
   "name": "python",
   "nbconvert_exporter": "python",
   "pygments_lexer": "ipython3",
   "version": "3.9.15"
  },
  "toc": {
   "base_numbering": 1,
   "nav_menu": {},
   "number_sections": true,
   "sideBar": true,
   "skip_h1_title": false,
   "title_cell": "Table of Contents",
   "title_sidebar": "Contents",
   "toc_cell": false,
   "toc_position": {},
   "toc_section_display": true,
   "toc_window_display": false
  },
  "varInspector": {
   "cols": {
    "lenName": 16,
    "lenType": 16,
    "lenVar": 40
   },
   "kernels_config": {
    "python": {
     "delete_cmd_postfix": "",
     "delete_cmd_prefix": "del ",
     "library": "var_list.py",
     "varRefreshCmd": "print(var_dic_list())"
    },
    "r": {
     "delete_cmd_postfix": ") ",
     "delete_cmd_prefix": "rm(",
     "library": "var_list.r",
     "varRefreshCmd": "cat(var_dic_list()) "
    }
   },
   "types_to_exclude": [
    "module",
    "function",
    "builtin_function_or_method",
    "instance",
    "_Feature"
   ],
   "window_display": false
  }
 },
 "nbformat": 4,
 "nbformat_minor": 5
}
